{
 "cells": [
  {
   "cell_type": "markdown",
   "metadata": {},
   "source": [
    "**This code can be used to analyse data given a self-organising map and a DML matrix**\n",
    "\n",
    "Several files will be loaded in this notebook. If the entire folder was copied from Github and nothing was moved around, only the audio files to be used need to be copied to the folder 'Audio_data', which is present in the Data folder. Alternatively, a different pathway can be specified using the argument Audio_data=...\n",
    "\n",
    "The others files and folders needed are: three Templates folders: regular, dml and eval with each three subfolders (arrays, dml, rect), the file 'parameters.txt' and the folder 'Modules' containing five modules with code. If *all* of these folders are located somewhere else, the remote control block can be run to change the working directory. If the folders were copied directly from Github, this shouldn't be necessary.\n",
    "\n",
    "The audio must be of the same type (no mixes of TE and non-TE). The code assumes data is normal, if it is TE, add an argument 'exp_factor' with the expansion factor. If there are multiple channels, add an argument channel='l' or 'r' (left or right).\n",
    "\n",
    "A possible error is 'ValueError: Incomplete wav chunk'. This is caused by metadata in the wav files which the function cannot read. To fix this, add an extra argument 'sr=...' with the sampling rate. The program will then be able to read this. Otherwise, the sampling rate can be determined automatically.\n",
    "\n",
    "Press shift+enter to run a block."
   ]
  },
  {
   "cell_type": "markdown",
   "metadata": {},
   "source": [
    "**Remote control block** (Optional. Use only if all data is present somewhere else)."
   ]
  },
  {
   "cell_type": "code",
   "execution_count": null,
   "metadata": {},
   "outputs": [],
   "source": [
    "import os\n",
    "path='C:/Users/arne/Documents/School/Thesis'; #Change this to directory that stores the data\n",
    "os.chdir(path)"
   ]
  },
  {
   "cell_type": "markdown",
   "metadata": {},
   "source": [
    "**Import necessary functions** (run unchanged)"
   ]
  },
  {
   "cell_type": "code",
   "execution_count": 1,
   "metadata": {},
   "outputs": [],
   "source": [
    "from ipywidgets import interact, fixed #interactive plot\n",
    "import ipywidgets as widgets\n",
    "from IPython.display import clear_output\n",
    "\n",
    "import os\n",
    "path=os.getcwd()\n",
    "os.chdir(path+'/Modules')\n",
    "import AD1_Loading as AD1\n",
    "import AD2_Spectro as AD2\n",
    "import AD3_Features as AD3\n",
    "import AD4_SOM as AD4\n",
    "import AD5_MDS as AD5\n",
    "os.chdir(path)"
   ]
  },
  {
   "cell_type": "markdown",
   "metadata": {},
   "source": [
    "**Load a stored SOM and DML-matrix**\n",
    "\n",
    "Provide the name of the map in 'map_name'. The code will load both map_name.npy and map_name_data.npy (the second part is needed to visualise the map).\n",
    "\n",
    "The code assumes the map is present in the same folder as this notebook. If this is not the case, provide an alternate pathway by adding 'path=...' to the function.\n",
    "\n",
    "Load dml works similarly, but doesn't have a data part."
   ]
  },
  {
   "cell_type": "code",
   "execution_count": 2,
   "metadata": {},
   "outputs": [],
   "source": [
    "#SOM\n",
    "map_name='map_walkthrough' #change this to the name of the map\n",
    "net, raw_data=AD1.import_map(map_name) #if the map is in a different location add 'path=...' here\n",
    "Dim1=net.shape[0] #size of the map is read automatically\n",
    "Dim2=net.shape[1]"
   ]
  },
  {
   "cell_type": "code",
   "execution_count": 3,
   "metadata": {},
   "outputs": [],
   "source": [
    "#DML\n",
    "dml_name='D_walkthrough' #change this to the name of the matrix\n",
    "D=AD1.import_dml(dml_name) #if the matrix is in a different location add 'path=...' here"
   ]
  },
  {
   "cell_type": "markdown",
   "metadata": {},
   "source": [
    "**Visualisation of the map** (run unchanged)\n",
    "\n",
    "Plots the map in two dimensions to illustrate the different regions. This also allows the user to check if the map works properly. This plot will show the neurons (red) and the data used to fit them (black)."
   ]
  },
  {
   "cell_type": "code",
   "execution_count": 4,
   "metadata": {},
   "outputs": [
    {
     "data": {
      "image/png": "[encoded data removed]",
      "text/plain": [
       "<Figure size 432x288 with 1 Axes>"
      ]
     },
     "metadata": {
      "needs_background": "light"
     },
     "output_type": "display_data"
    },
    {
     "data": {
      "text/plain": [
       "()"
      ]
     },
     "execution_count": 4,
     "metadata": {},
     "output_type": "execute_result"
    }
   ],
   "source": [
    "#plot MDS\n",
    "net_features=AD4.calc_net_features(net)\n",
    "D=AD5.calc_dist_matrix(net_features, 1, raw_data=raw_data)\n",
    "pos=AD5.calc_pos(D)\n",
    "AD5.plot_MDS2(pos, Dim1, Dim2)"
   ]
  },
  {
   "cell_type": "markdown",
   "metadata": {},
   "source": [
    "**List files** (files to be analysed)\n",
    "\n",
    "There are three options: \n",
    "\n",
    "* If 'Full' is set to 'True' every .WAV file inside the Audio_data folder will be analysed.\n",
    "\n",
    "* If 'Folder_name' is given a name other than 'None', all files within this folder will be analysed (assuming this folder is present within Audio_data). \n",
    "\n",
    "* A list of files to be analysed can be provided in List_files. This is location bound. So a file called 'Audio5.WAV' that is in a subfolder 'Location1' must be specified as 'Location1/Audio5.WAV'. \n",
    "\n",
    "The code runs in this order. Setting 'Full' to True will ignore the other two commands.\n",
    "\n",
    "If there are subfolders present, this can be specified by setting 'Subfolders' to True. So if there are four audio files and they are located in folders 'Location1' and 'Location2' which are present in Audio_data, subfolders must be set to True if 'Full' is True. If only Location1 must be analysed, then Full is set to False, Folder_name is set to 'Location1' and 'Subfolders' is set to False. But if there are two folders within Location1 named 'Day1' and 'Day'2, 'Subfolders' must be set to true. If 'Full' is True, there can only be one layer of subfolders (so 'Location1' with 'Day1' and 'Day2' would not work).\n",
    "\n",
    "The code will ignore every file that doesn't end in .WAV to prevent errors."
   ]
  },
  {
   "cell_type": "code",
   "execution_count": 5,
   "metadata": {},
   "outputs": [],
   "source": [
    "Full=False\n",
    "Folder_name='None'\n",
    "List_files=['mono/A048_ALO.WAV', 'mono/A048_ALU.WAV','mono/A049_ALH.WAV','mono/A051_ALZ.WAV','mono/A051_AMD.WAV','mono/A051_AMF.WAV']\n",
    "Subfolders=False"
   ]
  },
  {
   "cell_type": "markdown",
   "metadata": {},
   "source": [
    "**Calculate regions** (run unchanged)\n",
    "\n",
    "If the data is TE, add exp_factor to the first function. Channel and sr can be added too if need be."
   ]
  },
  {
   "cell_type": "code",
   "execution_count": 6,
   "metadata": {},
   "outputs": [],
   "source": [
    "#M: number of regions matching per neuron\n",
    "net_label, features, features_key, features_freq, rectangles, regions, spectros, list_files2=AD4.calc_output(List_files, net, full=Full, folder=Folder_name, subfolders=Subfolders) #add extra arguments here\n",
    "full_region, full_rectangle, full_spectro, full_name=AD4.rearrange_output(net_label, features, features_key, features_freq, rectangles, regions, spectros, list_files2, net, dim1=Dim1, dim2=Dim2)\n",
    "M=AD4.calc_matching(full_name, dim1=Dim1, dim2=Dim2)"
   ]
  },
  {
   "cell_type": "markdown",
   "metadata": {},
   "source": [
    "**Visualisations** (run unchanged)"
   ]
  },
  {
   "cell_type": "markdown",
   "metadata": {},
   "source": [
    "**MDS**\n",
    "\n",
    "This can be compared with the previous MDS plot. If there are substantial differences, it is likely that the new data is drastically different from the data used to fit the map, which can result in a poor performance."
   ]
  },
  {
   "cell_type": "code",
   "execution_count": 7,
   "metadata": {},
   "outputs": [
    {
     "data": {
      "image/png": "[encoded data removed]",
      "text/plain": [
       "<Figure size 432x288 with 1 Axes>"
      ]
     },
     "metadata": {
      "needs_background": "light"
     },
     "output_type": "display_data"
    },
    {
     "data": {
      "text/plain": [
       "()"
      ]
     },
     "execution_count": 7,
     "metadata": {},
     "output_type": "execute_result"
    }
   ],
   "source": [
    "#MDS\n",
    "net_features=AD4.calc_net_features(net)\n",
    "conc_features=AD5.conc_features(features)\n",
    "D=AD5.calc_dist_matrix(net_features, 1, raw_data=conc_features)\n",
    "pos=AD5.calc_pos(D)\n",
    "AD5.plot_MDS2(pos, Dim1, Dim2)"
   ]
  },
  {
   "cell_type": "markdown",
   "metadata": {},
   "source": [
    "The heatmap will show how many matches each neuron has. (Neurons are described with two coordinates)"
   ]
  },
  {
   "cell_type": "code",
   "execution_count": 8,
   "metadata": {},
   "outputs": [
    {
     "data": {
      "image/png": "[encoded data removed]",
      "text/plain": [
       "<Figure size 432x288 with 2 Axes>"
      ]
     },
     "metadata": {
      "needs_background": "light"
     },
     "output_type": "display_data"
    },
    {
     "data": {
      "text/plain": [
       "()"
      ]
     },
     "execution_count": 8,
     "metadata": {},
     "output_type": "execute_result"
    }
   ],
   "source": [
    "#add 'export' to save the figure\n",
    "AD4.heatmap_neurons(M)"
   ]
  },
  {
   "cell_type": "markdown",
   "metadata": {},
   "source": [
    "The U-matrix shows the distance of each neuron to the nearest other neuron. A high distance indicates an outlier. A low distance indicates a group of neurons that are close together."
   ]
  },
  {
   "cell_type": "code",
   "execution_count": 9,
   "metadata": {},
   "outputs": [
    {
     "data": {
      "image/png": "[encoded data removed]",
      "text/plain": [
       "<Figure size 432x288 with 2 Axes>"
      ]
     },
     "metadata": {
      "needs_background": "light"
     },
     "output_type": "display_data"
    },
    {
     "data": {
      "text/plain": [
       "()"
      ]
     },
     "execution_count": 9,
     "metadata": {},
     "output_type": "execute_result"
    }
   ],
   "source": [
    "#add 'export' to save the figure\n",
    "AD4.plot_U(net)"
   ]
  },
  {
   "cell_type": "markdown",
   "metadata": {},
   "source": [
    "**Interactive plot** (run unchanged)\n",
    "\n",
    "This block will plot the regions. For easy reference, regions are plotted inside a fixed frame that can be adjusted. Regions that are too big are cut off automatically. The plot can be adjusted using the following sliders:\n",
    "\n",
    "* Dim 1: first dimension, used to select a specific neuron\n",
    "\n",
    "* Dim 2: second dimension, used to select a specific neuron\n",
    "\n",
    "* Point: all matches are ordered according to distance. \n",
    "\n",
    "* Max_time: width of the plot in ms (between 0 and 10)\n",
    "\n",
    "* Min_freq: minimum frequency of the plot in kHz (between 20 and 120)\n",
    "\n",
    "* Max_freq: maximum frequency of the plot in kHz (between 20 and 120)\n",
    "\n",
    "* Context: If this is enabled, a second plot is shown to the left which is zoomed out more.\n",
    "\n",
    "* FI: If this is enabled, a second plot is shown to the right which shows a frequency-intensity diagram.\n",
    "\n",
    "* fig_size: size of the figure\n",
    "\n",
    "* next point: button that moves to the next point. (If the end of the current plot is reached, dim 1 is raised by 1. If dim 1 is at maximum, dim 2 is raised by 1 and dim 1 is put back to zero. If both are at maximum, nothing will happen.) \n",
    "\n",
    "When there are no more matches, an empty plot will be shown with the title: \"No more matches. Change sliders.\""
   ]
  },
  {
   "cell_type": "code",
   "execution_count": 10,
   "metadata": {},
   "outputs": [
    {
     "data": {
      "application/vnd.jupyter.widget-view+json": {
       "model_id": "37f88e6580ef430c95cc1a94ae11deef",
       "version_major": 2,
       "version_minor": 0
      },
      "text/plain": [
       "IntSlider(value=0, description='dim1', max=9)"
      ]
     },
     "metadata": {},
     "output_type": "display_data"
    },
    {
     "data": {
      "application/vnd.jupyter.widget-view+json": {
       "model_id": "4d866ac476744583b94d74657271b5fd",
       "version_major": 2,
       "version_minor": 0
      },
      "text/plain": [
       "IntSlider(value=9, description='dim2', max=9)"
      ]
     },
     "metadata": {},
     "output_type": "display_data"
    },
    {
     "data": {
      "application/vnd.jupyter.widget-view+json": {
       "model_id": "d5e7828f971c441388cebe42593c22c0",
       "version_major": 2,
       "version_minor": 0
      },
      "text/plain": [
       "FloatSlider(value=0.0, description='point', max=25.0, step=1.0)"
      ]
     },
     "metadata": {},
     "output_type": "display_data"
    },
    {
     "data": {
      "application/vnd.jupyter.widget-view+json": {
       "model_id": "0453e7379e6d4208a36275bc4b9098fe",
       "version_major": 2,
       "version_minor": 0
      },
      "text/plain": [
       "FloatSlider(value=10.0, description='max time', max=10.0, min=1.0, step=0.5)"
      ]
     },
     "metadata": {},
     "output_type": "display_data"
    },
    {
     "data": {
      "application/vnd.jupyter.widget-view+json": {
       "model_id": "536fb7904c454d40baa84cacd555be9e",
       "version_major": 2,
       "version_minor": 0
      },
      "text/plain": [
       "IntSlider(value=80, description='max freq', max=120, min=20)"
      ]
     },
     "metadata": {},
     "output_type": "display_data"
    },
    {
     "data": {
      "application/vnd.jupyter.widget-view+json": {
       "model_id": "d732d3780f514d4bac35cdf09304144f",
       "version_major": 2,
       "version_minor": 0
      },
      "text/plain": [
       "IntSlider(value=20, description='min freq', max=120, min=20)"
      ]
     },
     "metadata": {},
     "output_type": "display_data"
    },
    {
     "data": {
      "application/vnd.jupyter.widget-view+json": {
       "model_id": "b612dbb307964398a368d004b09bc3ad",
       "version_major": 2,
       "version_minor": 0
      },
      "text/plain": [
       "FloatSlider(value=7.0, description='figure size', max=10.0, min=1.0, step=1.0)"
      ]
     },
     "metadata": {},
     "output_type": "display_data"
    },
    {
     "data": {
      "application/vnd.jupyter.widget-view+json": {
       "model_id": "89e544eafc33456ea0f4562c1038e274",
       "version_major": 2,
       "version_minor": 0
      },
      "text/plain": [
       "ToggleButton(value=False, description='Context on/off', icon='check')"
      ]
     },
     "metadata": {},
     "output_type": "display_data"
    },
    {
     "data": {
      "application/vnd.jupyter.widget-view+json": {
       "model_id": "447011a235f6430eace99c4eabfd4d36",
       "version_major": 2,
       "version_minor": 0
      },
      "text/plain": [
       "ToggleButton(value=False, description='FI on/off', icon='check')"
      ]
     },
     "metadata": {},
     "output_type": "display_data"
    },
    {
     "data": {
      "application/vnd.jupyter.widget-view+json": {
       "model_id": "21ebea4680cc49adad0b3e14b8e4e078",
       "version_major": 2,
       "version_minor": 0
      },
      "text/plain": [
       "ToggleButton(value=False, description='Next point')"
      ]
     },
     "metadata": {},
     "output_type": "display_data"
    },
    {
     "data": {
      "image/png": "[encoded data removed]",
      "text/plain": [
       "<Figure size 504x504 with 1 Axes>"
      ]
     },
     "metadata": {
      "needs_background": "light"
     },
     "output_type": "display_data"
    }
   ],
   "source": [
    "#define widgets\n",
    "max_c=AD4.calc_maxc(full_name, dim1=Dim1, dim2=Dim2)\n",
    "w_dim1=widgets.IntSlider(value=0, min=0, max=Dim1-1, step=1, description='dim1')\n",
    "w_dim2=widgets.IntSlider(value=10, min=0, max=Dim2-1, step=1, description='dim2')\n",
    "w_point=widgets.FloatSlider(value=0, min=0, max=max_c-1, step=1, description='point')\n",
    "w_max_time=widgets.FloatSlider(value=10, min=1, max=10, step=0.5, description='max time')\n",
    "w_max_freq=widgets.IntSlider(value=80, min=20, max=120, step=1, description='max freq')\n",
    "w_min_freq=widgets.IntSlider(value=20, min=20, max=120, step=1, description='min freq')\n",
    "w_context = widgets.ToggleButton(value=False, disabled=False, icon='check', description=\"Context on/off\")\n",
    "w_FI = widgets.ToggleButton(value=False, disabled=False, icon='check', description=\"FI on/off\")\n",
    "w_fig_size=widgets.FloatSlider(value=7, min=1, max=10, step=1, description='figure size')\n",
    "w_next=widgets.ToggleButton(value=False, description=\"Next point\")\n",
    "\n",
    "#display widgets\n",
    "display(w_dim1)\n",
    "display(w_dim2)\n",
    "display(w_point)\n",
    "display(w_max_time)\n",
    "display(w_max_freq)\n",
    "display(w_min_freq)\n",
    "display(w_fig_size)\n",
    "display(w_context)\n",
    "display(w_FI)\n",
    "display(w_next)\n",
    "AD4.plot_region_neuron(full_region, full_rectangle, full_spectro, full_name, w_dim1.value,\n",
    "         w_dim2.value, w_point.value, w_max_time.value, w_min_freq.value, w_max_freq.value, \n",
    "         w_context.value, w_FI.value, w_fig_size.value)\n",
    "\n",
    "#update function\n",
    "def update_func(x):\n",
    "    print('check')\n",
    "    clear_output()\n",
    "    w_point.max=M[w_dim1.value, w_dim2.value]-1\n",
    "    display(w_dim1)\n",
    "    display(w_dim2)\n",
    "    display(w_point)\n",
    "    display(w_max_time)\n",
    "    display(w_max_freq)\n",
    "    display(w_min_freq)\n",
    "    display(w_fig_size)\n",
    "    display(w_context)\n",
    "    display(w_FI)\n",
    "    display(w_next)\n",
    "    AD4.plot_region_neuron(full_region, full_rectangle, full_spectro, full_name, w_dim1.value,\n",
    "         w_dim2.value, w_point.value, w_max_time.value, w_min_freq.value, w_max_freq.value, \n",
    "         w_context.value, w_FI.value, w_fig_size.value)\n",
    "\n",
    "def update_func2(y):\n",
    "    if w_next.value: #if True\n",
    "        if w_point.value<w_point.max: #next point\n",
    "            w_point.value+=1\n",
    "        elif w_dim1.value<w_dim1.max: #next neuron dim 1\n",
    "            w_dim1.value+=1\n",
    "            w_point.value=0 #set back to zero\n",
    "        elif w_dim2.value<w_dim2.max: #next neuron dim 2\n",
    "            w_dim2.value+=1\n",
    "            w_point.value=0 #set back to zero\n",
    "            w_dim1.value=0 #set back to zero\n",
    "        w_next.value=False\n",
    "\n",
    "#observe the widgets\n",
    "w_dim1.observe(update_func)\n",
    "w_dim2.observe(update_func)\n",
    "w_point.observe(update_func)\n",
    "w_max_time.observe(update_func)\n",
    "w_max_freq.observe(update_func)\n",
    "w_min_freq.observe(update_func)\n",
    "w_context.observe(update_func)\n",
    "w_FI.observe(update_func)\n",
    "w_fig_size.observe(update_func)\n",
    "w_next.observe(update_func2)"
   ]
  },
  {
   "cell_type": "markdown",
   "metadata": {},
   "source": [
    "**Features analysis**"
   ]
  },
  {
   "cell_type": "markdown",
   "metadata": {},
   "source": [
    "**Templates**\n",
    "\n",
    "To make a new template, fill in the correct file_name, timestep and region_num from the plot above. \n",
    "Choose the correct bat name as well. If this folder already exists, the template is added. If not, a new folder is created.\n",
    "The template_type can be 'regular', 'dml' or 'evaluate' (for the meaning of this, see the documentation). If something else is given, the code defaults to 'regular' and gives a warning.\n",
    "\n",
    "The code will return the hash-code of template (name under which the template is stored)."
   ]
  },
  {
   "cell_type": "code",
   "execution_count": null,
   "metadata": {},
   "outputs": [],
   "source": [
    "file_name='mdau-1µl1µA052_AJP.wav'\n",
    "timestep=31\n",
    "region_num=0\n",
    "bat_name='mdau'\n",
    "template_type='regular' #regular, dml or evaluate\n",
    "AD2.create_template(file_name, timestep, region_num, bat_name, template_type=template_type)"
   ]
  },
  {
   "cell_type": "markdown",
   "metadata": {},
   "source": [
    "**Correlation plots**\n",
    "\n",
    "Make correlation plots between the features."
   ]
  },
  {
   "cell_type": "code",
   "execution_count": null,
   "metadata": {},
   "outputs": [],
   "source": [
    "#Shows the index of every feature\n",
    "AD1.print_features()"
   ]
  },
  {
   "cell_type": "code",
   "execution_count": null,
   "metadata": {},
   "outputs": [],
   "source": [
    "#Use 'export' to save the fig\n",
    "index_range=[0, 7] #range over which feature correlations are calculated\n",
    "corr=AD3.cor_plot(features, index_range)"
   ]
  },
  {
   "cell_type": "code",
   "execution_count": null,
   "metadata": {},
   "outputs": [],
   "source": []
  }
 ],
 "metadata": {
  "kernelspec": {
   "display_name": "Python 3",
   "language": "python",
   "name": "python3"
  },
  "language_info": {
   "codemirror_mode": {
    "name": "ipython",
    "version": 3
   },
   "file_extension": ".py",
   "mimetype": "text/x-python",
   "name": "python",
   "nbconvert_exporter": "python",
   "pygments_lexer": "ipython3",
   "version": "3.7.3"
  }
 },
 "nbformat": 4,
 "nbformat_minor": 2
}
