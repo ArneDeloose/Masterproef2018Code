{
 "cells": [
  {
   "cell_type": "markdown",
   "metadata": {},
   "source": [
    "**This code can be used to evaluate a self-organising map on new data or on the templates**\n",
    "\n",
    "For an explanation on the templates, we refer to the documentation.  \n",
    "\n",
    "The files and folders needed are: three Templates folders: regular, dml and eval with each three subfolders (arrays, dml, rect), the file 'parameters.txt' and the folder 'Modules' containing five modules with code. If *all* of these folders are located somewhere else, the remote control block can be run to change the working directory. If the folders were copied directly from Github, this shouldn't be necessary.\n",
    "\n",
    "If new audio is used (not neccesary), the audio files to be used need to be copied to the folder 'Audio_data', which is present in the Data folder. Alternatively, a different pathway can be specified using the argument Audio_data=... \n",
    "\n",
    "The audio must be of the same type (no mixes of TE and non-TE). The code assumes data is normal, if it is TE, add an argument 'exp_factor' with the expansion factor. If there are multiple channels, add an argument channel='l' or 'r' (left or right). If there is metadata that cannot be parsed, add an argument 'sr' with the sampling rate.\n",
    "\n",
    "Press shift+enter to run a block."
   ]
  },
  {
   "cell_type": "markdown",
   "metadata": {},
   "source": [
    "**Remote control block** (Optional. Use only if all data is present somewhere else)."
   ]
  },
  {
   "cell_type": "code",
   "execution_count": null,
   "metadata": {},
   "outputs": [],
   "source": [
    "import os\n",
    "path='C:/Users/arne/Documents/School/Thesis'; #Change this to directory that stores the data\n",
    "os.chdir(path)"
   ]
  },
  {
   "cell_type": "markdown",
   "metadata": {},
   "source": [
    "**Import necessary functions** (run unchanged)"
   ]
  },
  {
   "cell_type": "code",
   "execution_count": 1,
   "metadata": {},
   "outputs": [],
   "source": [
    "import os\n",
    "path=os.getcwd()\n",
    "os.chdir(path+'/Modules')\n",
    "import AD1_Loading as AD1\n",
    "import AD2_Spectro as AD2\n",
    "import AD3_Features as AD3\n",
    "import AD4_SOM as AD4\n",
    "import AD5_MDS as AD5\n",
    "os.chdir(path)"
   ]
  },
  {
   "cell_type": "markdown",
   "metadata": {},
   "source": [
    "**Prints out how many templates of each type there are.**"
   ]
  },
  {
   "cell_type": "code",
   "execution_count": 2,
   "metadata": {},
   "outputs": [
    {
     "name": "stdout",
     "output_type": "stream",
     "text": [
      "Regular templates: \n",
      "eser: 17\n",
      "mdau: 6\n",
      "nlei: 10\n",
      "pnat: 18\n",
      "ppip: 38\n",
      "Total: 89\n",
      " \n",
      "dml templates: \n",
      "eser: 10\n",
      "mdau: 0\n",
      "nlei: 0\n",
      "pnat: 0\n",
      "ppip: 11\n",
      "Total: 21\n",
      " \n",
      "Evaluation templates: \n",
      "eser: 0\n",
      "mdau: 0\n",
      "nlei: 0\n",
      "pnat: 0\n",
      "ppip: 0\n",
      "Total: 0\n",
      " \n",
      "Total templates: \n",
      "eser: 27\n",
      "mdau: 6\n",
      "nlei: 10\n",
      "pnat: 18\n",
      "ppip: 49\n",
      "Total: 110\n"
     ]
    },
    {
     "data": {
      "text/plain": [
       "()"
      ]
     },
     "execution_count": 2,
     "metadata": {},
     "output_type": "execute_result"
    }
   ],
   "source": [
    "AD4.print_evaluate()"
   ]
  },
  {
   "cell_type": "markdown",
   "metadata": {},
   "source": [
    "**Create a SOM-plot**\n",
    "\n",
    "This code will fit a SOM and a corresponding dml on the templates (regular and dml). Every neuron is described using two coordinates on a two dimensional plot. All templates (regular, dml and eval) are then analysed as labeled datapoints. For every datapoint, a marker is plotted in a two dimensional plot on the location of the matching neuron. This can be used to evaluate graphically how well seperated different templates are. To see the performance on new data, regions can be saved as evaluate templates (eval). Regions that are present in multiple folders (regular, dml and eval) are plotted with the same marker. So if you want to evaluate the same bat in two different environment for example, it is recommended to give them a different name when saving them. \n",
    "\n",
    "The code can be customised with the following optional arguments:\n",
    "* path: pathway to the data (use if templates are saved somewhere else)\n",
    "* dim1 and dim2: dimensions SOM\n",
    "* Full: fit the SOM on all data in Audio_data (if both Full and List_files are absent, the SOM is fitted on the templates)\n",
    "* List_files: fit the SOM on a list of audio files in Audio data (if both Full and List_files are absent, the SOM is fitted on the templates)\n",
    "* title: give a title to the plot\n",
    "* export: save the plot\n",
    "* fit eval: if set to True, the evaluation templates are also used to fit the SOM instead of only dml and regular templates\n",
    "* SOM: load in an existing SOM\n",
    "* dml: load in an existing dml\n",
    "* plot_flag: if set to False, no plot is given"
   ]
  },
  {
   "cell_type": "code",
   "execution_count": 3,
   "metadata": {},
   "outputs": [
    {
     "name": "stdout",
     "output_type": "stream",
     "text": [
      "Initialisation complete (1/3)\n",
      "DML complete (2/3)\n",
      "SOM complete (3/3)\n"
     ]
    },
    {
     "data": {
      "image/png": "[encoded data removed]",
      "text/plain": [
       "<Figure size 432x288 with 1 Axes>"
      ]
     },
     "metadata": {
      "needs_background": "light"
     },
     "output_type": "display_data"
    }
   ],
   "source": [
    "export_name='test_evaluation' #name under which you want to save the plot, this argument is optional\n",
    "dim1=20 #size SOM\n",
    "dim2=20 #size SOM\n",
    "plot_flag=True #set to False if you do not want a plot\n",
    "X_final, Y_final, net, D=AD4.evaluation_SOM(dim1=dim1, dim2=dim2, export=export_name, Plot_Flag=plot_flag)"
   ]
  },
  {
   "cell_type": "markdown",
   "metadata": {},
   "source": [
    "**KNN and Cohen's kappa**\n",
    "\n",
    "This block writes out the number of templates per species, the PA and the Cohen's kappa. The number of neighbors considered can be adapted with k."
   ]
  },
  {
   "cell_type": "code",
   "execution_count": 4,
   "metadata": {},
   "outputs": [
    {
     "name": "stdout",
     "output_type": "stream",
     "text": [
      "Species: Amount: PA: Cohen-kappa:\n",
      "eser     27    0.6049382716049382 0.2796370667856611\n",
      "mdau     6    0.05555555555555555 -0.002136752136752136\n",
      "nlei     10    0.5666666666666667 0.4666666666666667\n",
      "pnat     18    0.3333333333333333 0.13768115942028986\n",
      "ppip     49    0.0 -0.8032786885245901\n"
     ]
    },
    {
     "data": {
      "text/plain": [
       "()"
      ]
     },
     "execution_count": 4,
     "metadata": {},
     "output_type": "execute_result"
    }
   ],
   "source": [
    "k=3 #number of neighbors considered\n",
    "\n",
    "PA, match_scores=AD4.KNN_calc(X_final, Y_final, D, K=k)\n",
    "PE=AD4.calc_PE()\n",
    "kappa=AD4.calc_kappa(PA, PE)\n",
    "AD4.print_evaluate2(PA, kappa)"
   ]
  },
  {
   "cell_type": "code",
   "execution_count": 5,
   "metadata": {},
   "outputs": [],
   "source": []
  }
 ],
 "metadata": {
  "kernelspec": {
   "display_name": "Python 3",
   "language": "python",
   "name": "python3"
  },
  "language_info": {
   "codemirror_mode": {
    "name": "ipython",
    "version": 3
   },
   "file_extension": ".py",
   "mimetype": "text/x-python",
   "name": "python",
   "nbconvert_exporter": "python",
   "pygments_lexer": "ipython3",
   "version": "3.7.3"
  }
 },
 "nbformat": 4,
 "nbformat_minor": 2
}
