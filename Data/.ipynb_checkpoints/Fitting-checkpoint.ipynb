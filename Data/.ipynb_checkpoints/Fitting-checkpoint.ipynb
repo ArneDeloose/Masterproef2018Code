{
 "cells": [
  {
   "cell_type": "markdown",
   "metadata": {},
   "source": [
    "**This code can be used to fit a self-organising map and a DML matrix**\n",
    "\n",
    "Several files will be loaded in this notebook. If the entire folder was copied from Github and nothing was moved around, only the audio files to be used need to be copied to the folder 'Audio_data', which is present in the Data folder. Alternatively, a different pathway can be specified using the argument Audio_data=... However, the code will always assume the folder is c \n",
    "\n",
    "The others files and folders needed are: three Templates folders (arrays, dml, rect) (image is not neccesary), the file 'parameters.txt' and the folder 'Modules' containing five modules with code. If *all* of these folders are located somewhere else, the remote control block can be run to change the working directory. If the folders were copied directly from Github, this shouldn't be necessary.\n",
    "\n",
    "The audio must be of the same type (no mixes of TE and non-TE). The code assumes data is normal, if it is TE, add an argument channel='l' or 'r' (left or right) when you fit the SOM.\n",
    "\n",
    "Press shift+enter to run a block."
   ]
  },
  {
   "cell_type": "markdown",
   "metadata": {},
   "source": [
    "**Remote control block** (Optional. Use only if all data is present somewhere else)."
   ]
  },
  {
   "cell_type": "code",
   "execution_count": null,
   "metadata": {},
   "outputs": [],
   "source": [
    "import os\n",
    "path='C:/Users/arne/Documents/School/Thesis'; #Change this to directory that stores the data\n",
    "os.chdir(path)"
   ]
  },
  {
   "cell_type": "markdown",
   "metadata": {},
   "source": [
    "**Import necessary functions** (run unchanged)"
   ]
  },
  {
   "cell_type": "code",
   "execution_count": 1,
   "metadata": {},
   "outputs": [],
   "source": [
    "import os\n",
    "path=os.getcwd()\n",
    "os.chdir(path+'/Modules')\n",
    "import AD1_Loading as AD1\n",
    "import AD2_Spectro as AD2\n",
    "import AD3_Features as AD3\n",
    "import AD4_SOM as AD4\n",
    "import AD5_MDS as AD5\n",
    "os.chdir(path)"
   ]
  },
  {
   "cell_type": "markdown",
   "metadata": {},
   "source": [
    "**List files** (files to be used to fit the SOM)\n",
    "\n",
    "There are three options: \n",
    "\n",
    "* If 'Full' is set to 'True' every .WAV file inside the Audio_data folder will be analysed. (Make sure there are no mixes of TE and non-TE data)\n",
    "\n",
    "* If 'Folder_name' is given a name other than 'None', all files within this folder will be analysed (assuming this folder is present within Audio_data). \n",
    "\n",
    "* A list of files to be analysed can be provided in List_files. This is location bound. So a file called 'Audio5.WAV' that is in a subfolder 'Location1' must be specified as 'Location1/Audio5.WAV'. \n",
    "\n",
    "The code runs in this order. Setting 'Full' to True will ignore the other two commands.\n",
    "\n",
    "If there are subfolders present, this can be specified by setting 'Subfolders' to True. So if there are four audio files and they are located in folders 'Location1' and 'Location2' which are present in Audio_data, subfolders must be set to True if 'Full' is True. If only Location1 must be analysed, then Full is set to False, Folder_name is set to 'Location1' and 'Subfolders' is set to False. But if there are two folders within Location1 named 'Day1' and 'Day'2, 'Subfolders' must be set to true. If 'Full' is True, there can only be one layer of subfolders (so 'Location1' with 'Day1' and 'Day2' would not work).\n",
    "\n",
    "The code will ignore every file that doesn't end in .WAV or .wav to prevent errors."
   ]
  },
  {
   "cell_type": "code",
   "execution_count": 2,
   "metadata": {},
   "outputs": [],
   "source": [
    "Full=False\n",
    "Folder_name='None'\n",
    "List_files=['eser-1_ppip-2µl1µA043_AEI.WAV', 'eser-1_ppip-2µl1µA048_AFT.WAV',\n",
    "            'ppip-1µl1µB011_ABJ.WAV', 'ppip-1µl1µA045_AAS.WAV', 'mdau-1µl1µA052_AJP.WAV']\n",
    "Subfolders=False"
   ]
  },
  {
   "cell_type": "markdown",
   "metadata": {},
   "source": [
    "**Parameters of the map**\n",
    "\n",
    "map_name is the name under which you want to save the map, Dim1 and Dim2 are the sizes of the map. If Dim1 and Dim2 are left out, the code runs the default size specified in 'parameters.txt'. Maps are saved as 'map_name.npy' and 'map_name_data.npy'. The data part can be useful to visualise what the map does."
   ]
  },
  {
   "cell_type": "code",
   "execution_count": 3,
   "metadata": {},
   "outputs": [],
   "source": [
    "map_name='map1'\n",
    "Dim1=20\n",
    "Dim2=20"
   ]
  },
  {
   "cell_type": "code",
   "execution_count": 4,
   "metadata": {},
   "outputs": [],
   "source": [
    "net, raw_data=AD4.fit_SOM(List_files, full=Full, folder=Folder_name, subfolders=Subfolders, \n",
    "                          dim1=Dim1, dim2=Dim2, export=map_name) #for non_TE data, add argument 'channel' here"
   ]
  },
  {
   "cell_type": "markdown",
   "metadata": {},
   "source": [
    "**Visualise the map** (run unchanged)\n",
    "\n",
    "Shows a two dimensional visualisation of the map."
   ]
  },
  {
   "cell_type": "code",
   "execution_count": 5,
   "metadata": {},
   "outputs": [
    {
     "data": {
      "image/png": "[encoded data removed]",
      "text/plain": [
       "<Figure size 432x288 with 1 Axes>"
      ]
     },
     "metadata": {},
     "output_type": "display_data"
    },
    {
     "data": {
      "text/plain": [
       "()"
      ]
     },
     "execution_count": 5,
     "metadata": {},
     "output_type": "execute_result"
    }
   ],
   "source": [
    "#plot MDS\n",
    "net_features=AD4.calc_net_features(net)\n",
    "D=AD5.calc_dist_matrix(net_features, 1, raw_data=raw_data)\n",
    "pos=AD5.calc_pos(D)\n",
    "AD5.plot_MDS2(pos, Dim1, Dim2)"
   ]
  },
  {
   "cell_type": "markdown",
   "metadata": {},
   "source": [
    "**Fit a DML-matrix**\n",
    "\n",
    "A dml is automatically fitted using the data in the Templates folders (Templates_rect, Templates_arrays and Templates_dml). \n",
    "\n",
    "Alternate data can be specified the following way (optional arguments): input features 'data_X' with datapoints as colums and rows as features (keep in mind the features code used is the other way around so this must be transposed first). Output is 'data_Y' which is a vector with numbers. Every number specifies a different bat. "
   ]
  },
  {
   "cell_type": "code",
   "execution_count": 6,
   "metadata": {},
   "outputs": [],
   "source": [
    "dml_name='D1'\n",
    "D=AD4.fit_dml(export=dml_name)"
   ]
  }
 ],
 "metadata": {
  "kernelspec": {
   "display_name": "Python 3",
   "language": "python",
   "name": "python3"
  },
  "language_info": {
   "codemirror_mode": {
    "name": "ipython",
    "version": 3
   },
   "file_extension": ".py",
   "mimetype": "text/x-python",
   "name": "python",
   "nbconvert_exporter": "python",
   "pygments_lexer": "ipython3",
   "version": "3.6.5"
  }
 },
 "nbformat": 4,
 "nbformat_minor": 2
}
