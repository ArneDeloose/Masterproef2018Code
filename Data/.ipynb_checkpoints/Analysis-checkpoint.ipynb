{
 "cells": [
  {
   "cell_type": "markdown",
   "metadata": {},
   "source": [
    "**This code can be used to analyse data given a self-organising map and a DML matrix**\n",
    "\n",
    "The audio files to be analysed must be copied to the folder 'Audio_data'. The code will assume this folder is present in the same location as the notebook itself. If this is not the case, an alternate pathway can be specified using the argument Audio_data=.... The same is true for the four Templates folders (optional argument: Templates=...). The necessary functions are located in the folder 'Modules'. If *all* of these folders are located somewhere else, the remote control block can be run to change the working directory. If the folders were copied directly from Github, this shouldn't be necessary.\n",
    "\n",
    "The audio must be of the same type (no mixes of TE and non-TE). The code assumes data is normal, if it is TE, add an argument channel='l' or 'r' (left or right).\n",
    "\n",
    "Press shift+enter to run a block"
   ]
  },
  {
   "cell_type": "markdown",
   "metadata": {},
   "source": [
    "**Remote control block** (Optional. Use only if all data is present somewhere else)."
   ]
  },
  {
   "cell_type": "code",
   "execution_count": null,
   "metadata": {},
   "outputs": [],
   "source": [
    "import os\n",
    "path='C:/Users/arne/Documents/School/Thesis'; #Change this to directory that stores the data\n",
    "os.chdir(path)"
   ]
  },
  {
   "cell_type": "markdown",
   "metadata": {},
   "source": [
    "**Import necessary functions** (run unchanged)"
   ]
  },
  {
   "cell_type": "code",
   "execution_count": null,
   "metadata": {},
   "outputs": [],
   "source": [
    "from ipywidgets import interact, fixed #interactive plot\n",
    "import ipywidgets as widgets\n",
    "\n",
    "import os\n",
    "path=os.getcwd()\n",
    "os.chdir(path+'/Modules')\n",
    "import AD1_Loading as AD1\n",
    "import AD2_Spectro as AD2\n",
    "import AD3_Features as AD3\n",
    "import AD4_SOM as AD4\n",
    "import AD5_MDS as AD5\n",
    "os.chdir(path)"
   ]
  },
  {
   "cell_type": "markdown",
   "metadata": {},
   "source": [
    "**Load a stored SOM and DML-matrix**\n",
    "\n",
    "Provide the name of the map in 'map_name'. The code will load both map_name.npy and map_name_data.npy (the second part is needed to visualise the map).\n",
    "\n",
    "The code assumes the map is present in the same folder as this notebook. If this is not the case, provide an alternate pathway by adding 'path=...' to the function.\n",
    "\n",
    "Load dml works similarly, but doesn't have a data part."
   ]
  },
  {
   "cell_type": "code",
   "execution_count": null,
   "metadata": {},
   "outputs": [],
   "source": [
    "#SOM\n",
    "map_name='map1' #change this to the name of the map\n",
    "net, raw_data=AD1.import_map(map_name) #if the map is in a different location add 'path=...' here\n",
    "Dim1=net.shape[0] #size of the map is read automatically\n",
    "Dim2=net.shape[1]"
   ]
  },
  {
   "cell_type": "code",
   "execution_count": null,
   "metadata": {},
   "outputs": [],
   "source": [
    "#DML\n",
    "dml_name='D1' #change this to the name of the matrix\n",
    "D=AD1.import_dml(dml_name) #if the matrix is in a different location add 'path=...' here"
   ]
  },
  {
   "cell_type": "markdown",
   "metadata": {},
   "source": [
    "**Visualisation of the map** (run unchanged)\n",
    "\n",
    "Plots the map in two dimensions to illustrate the different regions. This also allows the user to check if the map works properly. This plot will show the neurons and the data used to fit them."
   ]
  },
  {
   "cell_type": "code",
   "execution_count": null,
   "metadata": {},
   "outputs": [],
   "source": [
    "#plot MDS\n",
    "net_features=AD4.calc_net_features(net)\n",
    "D=AD5.calc_dist_matrix(net_features, 1, raw_data=raw_data)\n",
    "pos=AD5.calc_pos(D)\n",
    "AD5.plot_MDS2(pos, Dim1, Dim2)"
   ]
  },
  {
   "cell_type": "markdown",
   "metadata": {},
   "source": [
    "**List files** (files to be analysed)\n",
    "\n",
    "There are three options: \n",
    "\n",
    "* If 'Full' is set to 'True' every .WAV file inside the Audio_data folder will be analysed.\n",
    "\n",
    "* If 'Folder_name' is given a name other than 'None', all files within this folder will be analysed (assuming this folder is present within Audio_data). \n",
    "\n",
    "* A list of files to be analysed can be provided in List_files. This is location bound. So a file called 'Audio5.WAV' that is in a subfolder 'Location1' must be specified as 'Location1/Audio5.WAV'. \n",
    "\n",
    "The code runs in this order. Setting 'Full' to True will ignore the other two commands.\n",
    "\n",
    "If there are subfolders present, this can be specified by setting 'Subfolders' to True. So if there are four audio files and they are located in folders 'Location1' and 'Location2' which are present in Audio_data, subfolders must be set to True if 'Full' is True. If only Location1 must be analysed, then Full is set to False, Folder_name is set to 'Location1' and 'Subfolders' is set to False. But if there are two folders within Location1 named 'Day1' and 'Day'2, 'Subfolders' must be set to true. If 'Full' is True, there can only be one layer of subfolders (so 'Location1' with 'Day1' and 'Day2' would not work).\n",
    "\n",
    "The code will ignore every file that doesn't end in .WAV to prevent errors."
   ]
  },
  {
   "cell_type": "code",
   "execution_count": null,
   "metadata": {},
   "outputs": [],
   "source": [
    "Full=False\n",
    "Folder_name='None'\n",
    "List_files=['eser-1_ppip-2µl1µA043_AEI.WAV', 'eser-1_ppip-2µl1µA048_AFT.WAV',\n",
    "            'ppip-1µl1µB011_ABJ.WAV', 'ppip-1µl1µA045_AAS.WAV', 'mdau-1µl1µA052_AJP.WAV']\n",
    "Subfolders=False"
   ]
  },
  {
   "cell_type": "markdown",
   "metadata": {},
   "source": [
    "**Calculate regions** (run unchanged)\n",
    "\n",
    "if the data is TE, add channel='l' or 'r' to the first function"
   ]
  },
  {
   "cell_type": "code",
   "execution_count": null,
   "metadata": {},
   "outputs": [],
   "source": [
    "#Calculate regions (can take a while)\n",
    "#M: number of regions matching per neuron\n",
    "net_label, features, features_key, features_freq, rectangles, regions, spectros, list_files2=\n",
    "    AD4.calc_output(List_files, net, full=Full, folder=Folder_name, subfolders=Subfolders) #add channel here if TE\n",
    "full_region, full_rectangle, full_spectro, full_name=AD4.rearrange_output(net_label, features, features_key, features_freq, rectangles, regions, spectros, list_files2, net, dim1=Dim1, dim2=Dim2)\n",
    "M=AD4.calc_matching(full_name, dim1=Dim1, dim2=Dim2)"
   ]
  },
  {
   "cell_type": "markdown",
   "metadata": {},
   "source": [
    "**Visualisations** (run unchanged)"
   ]
  },
  {
   "cell_type": "markdown",
   "metadata": {},
   "source": [
    "**MDS**\n",
    "\n",
    "This can be compared with the previous MDS plot. If there are substantial differences, it is likely that the new data is drastically different from the data used to fit the map, which can result in a poor performance."
   ]
  },
  {
   "cell_type": "code",
   "execution_count": null,
   "metadata": {},
   "outputs": [],
   "source": [
    "#MDS\n",
    "net_features=AD4.calc_net_features(net)\n",
    "D=AD5.calc_dist_matrix2(net_features, 1, raw_data=raw_data)\n",
    "pos=AD.calc_pos(D)\n",
    "AD.plot_MDS2(pos, Dim1, Dim2)"
   ]
  },
  {
   "cell_type": "code",
   "execution_count": null,
   "metadata": {},
   "outputs": [],
   "source": [
    "#heatmap of the matches per neuron\n",
    "#add 'export' to save the figure\n",
    "AD4.heatmap_neurons(M)"
   ]
  },
  {
   "cell_type": "code",
   "execution_count": null,
   "metadata": {},
   "outputs": [],
   "source": [
    "#U-matrix (distance of every neuron to the nearest other neuron)\n",
    "#add 'export' to save the figure\n",
    "AD4.plot_U(net)"
   ]
  },
  {
   "cell_type": "markdown",
   "metadata": {},
   "source": [
    "**Interactive plot** (run unchanged)\n",
    "\n",
    "This block will plot all the regions. The plot can be adjusted using the following sliders:\n",
    "\n",
    "* Dim1: first dimension, used to select a specific neuron\n",
    "\n",
    "* Dim 2: second dimension, used to select a specific neuron\n",
    "\n",
    "* Point: all matches are ordered according to distance. The maximum of this slider is set to the maximum amount of possible matches (highest neuron). So if the maximum is 20, it is possible a neuron only has 10 matches. The remaining 10 matches will show an empty plot.\n",
    "\n",
    "* Time: width of the plot in ms (between 0 and 10)\n",
    "\n",
    "* Min_freq: minimum frequency of the plot in kHz (between 20 and 120)\n",
    "\n",
    "* Max_freq: maximum frequency of the plot in kHz (between 20 and 120)\n",
    "\n",
    "* Context: 0 or 1. If this is put on 1, a second plot is shown to the left which is zoomed out more.\n",
    "\n",
    "* FI: 0 or 1. If this is put on 1, a second plot is shown to the right which shows a frequency-intensity diagram.\n",
    "\n"
   ]
  },
  {
   "cell_type": "code",
   "execution_count": null,
   "metadata": {},
   "outputs": [],
   "source": [
    "#plot neuron-regions, sliders can be used to select a neuron and a region\n",
    "#Keep the number of regions per neuron in mind (slider is set to the maximum value)\n",
    "fig_size=(7,7) #Adapts the size of the figure\n",
    "max_c=AD4.calc_maxc(full_name, dim1=Dim1, dim2=Dim2)\n",
    "interact(AD4.plot_region_neuron, full_region=fixed(full_region), full_rectangle=fixed(full_rectangle),\n",
    "         full_spectro=fixed(full_spectro), full_name=fixed(full_name),  dim1 = widgets.FloatSlider(value=0, min=0, max=Dim1-1, step=1),\n",
    "         dim2=widgets.FloatSlider(value=0, min=0, max=Dim2-1, step=1), point=widgets.FloatSlider(value=0, min=0, max=max_c-1, step=1), fig_size=fixed(fig_size))"
   ]
  },
  {
   "cell_type": "markdown",
   "metadata": {},
   "source": [
    "**Features analysis**"
   ]
  },
  {
   "cell_type": "markdown",
   "metadata": {},
   "source": [
    "**Templates**\n",
    "\n",
    "To make a new template, fill in the correct file_name, timestep and region_num from the plot above. \n",
    "Choose the correct bat name as well. If this folder already exists, the template is added. If not, a new folder is created.\n",
    "If dml_flag is set as False, the template will be stored as a regular template (used as a feature). If it is True, it will be stored as a dml_template (used to fit a dml_matrix).\n",
    "\n",
    "The code will return the hash-code of the rectangle and the region (name under which the template is stored). The image always shares the code with the region."
   ]
  },
  {
   "cell_type": "code",
   "execution_count": null,
   "metadata": {},
   "outputs": [],
   "source": [
    "file_name='mdau-1µl1µA052_AJP.wav'\n",
    "timestep=31\n",
    "region_num=0\n",
    "bat_name='mdau'\n",
    "dml_flag=False\n",
    "AD2.create_template(file_name, timestep, region_num, bat_name, dml=dml_flag)"
   ]
  },
  {
   "cell_type": "markdown",
   "metadata": {},
   "source": [
    "**Correlation plots**\n",
    "\n",
    "Make correlation plots between the features."
   ]
  },
  {
   "cell_type": "code",
   "execution_count": null,
   "metadata": {},
   "outputs": [],
   "source": [
    "#Shows the index of every feature\n",
    "AD1.print_features()"
   ]
  },
  {
   "cell_type": "code",
   "execution_count": null,
   "metadata": {},
   "outputs": [],
   "source": [
    "#Make correlation plots \n",
    "#use 'export' to save the fig\n",
    "index_range=[0, 7] #range over which feature correlations are calculated\n",
    "corr=AD3.cor_plot(features, index_range)"
   ]
  },
  {
   "cell_type": "code",
   "execution_count": null,
   "metadata": {},
   "outputs": [],
   "source": []
  }
 ],
 "metadata": {
  "kernelspec": {
   "display_name": "Python 3",
   "language": "python",
   "name": "python3"
  },
  "language_info": {
   "codemirror_mode": {
    "name": "ipython",
    "version": 3
   },
   "file_extension": ".py",
   "mimetype": "text/x-python",
   "name": "python",
   "nbconvert_exporter": "python",
   "pygments_lexer": "ipython3",
   "version": "3.6.5"
  }
 },
 "nbformat": 4,
 "nbformat_minor": 2
}
