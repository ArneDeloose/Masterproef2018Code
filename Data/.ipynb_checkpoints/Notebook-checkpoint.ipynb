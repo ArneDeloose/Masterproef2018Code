{
 "cells": [
  {
   "cell_type": "markdown",
   "metadata": {},
   "source": [
    "The files to be analysed must be copied to the folder 'Audio_data'. This folder is normally located with the notebook, but most functions can still run by adding an argument Audio_data=path\n",
    "\n",
    "The audio must be of the same type (no mixes of TE and non-TE). The code assumes data is normal, if it is TE, add an argument channel='l' or 'r' (left or right).\n",
    "\n",
    "If *all* the files are located somewhere else, the remote control block needs to be run (first block)."
   ]
  },
  {
   "cell_type": "markdown",
   "metadata": {},
   "source": [
    "**Remote control (optional)**"
   ]
  },
  {
   "cell_type": "code",
   "execution_count": 2,
   "metadata": {},
   "outputs": [],
   "source": [
    "#Adapt\n",
    "#If the necessary files aren't stored in the same folder as the notebook, specify the directory here\n",
    "import os\n",
    "path='C:/Users/arne/Documents/School/Thesis'; #Change this to directory that stores the data\n",
    "os.chdir(path)"
   ]
  },
  {
   "cell_type": "markdown",
   "metadata": {},
   "source": [
    "**Setup**"
   ]
  },
  {
   "cell_type": "code",
   "execution_count": 1,
   "metadata": {},
   "outputs": [],
   "source": [
    "#Import functions\n",
    "import AD_functions as AD #imports all needed functions\n",
    "from ipywidgets import interact, fixed #interactive plot\n",
    "import ipywidgets as widgets"
   ]
  },
  {
   "cell_type": "code",
   "execution_count": 3,
   "metadata": {},
   "outputs": [],
   "source": [
    "#Adapt\n",
    "#Files to be analysed, provide a list of names or set Full_flag to True to analyse every .wav file in the folder\n",
    "list_files=('eser-1_ppip-2µl1µA043_AEI.wav', 'eser-1_ppip-2µl1µA048_AFT.wav',\n",
    "            'ppip-1µl1µB011_ABJ.wav', 'ppip-1µl1µA045_AAS.wav', 'mdau-1µl1µA052_AJP.wav')\n",
    "Full_flag=False"
   ]
  },
  {
   "cell_type": "markdown",
   "metadata": {},
   "source": [
    "**SOFM**"
   ]
  },
  {
   "cell_type": "code",
   "execution_count": 4,
   "metadata": {},
   "outputs": [],
   "source": [
    "#option 1 (new map)\n",
    "#Fit self-organising map (can take a while)\n",
    "#To save the map, add argument 'export' and set it to a name (e.g. AD.fit_SOM(list_files, full=Full_flag, export='map1')\n",
    "Dim1=5\n",
    "Dim2=5\n",
    "net, raw_data=AD.fit_SOM(list_files, full=Full_flag, dim1=Dim1, dim2=Dim2)"
   ]
  },
  {
   "cell_type": "code",
   "execution_count": null,
   "metadata": {},
   "outputs": [],
   "source": [
    "#option 2 (existing map)\n",
    "#Load an existing map (if stored in a different location, add argument 'path', e.g. AD.import_map(map_name, path='C:/Users/...))\n",
    "map_name='map1' #change this to the name of the map\n",
    "net, raw_data=AD.import_map(map_name)\n",
    "Dim1=net.shape[0]\n",
    "Dim2=net.shape[1]"
   ]
  },
  {
   "cell_type": "markdown",
   "metadata": {},
   "source": [
    "**Calculate regions**"
   ]
  },
  {
   "cell_type": "code",
   "execution_count": 5,
   "metadata": {},
   "outputs": [],
   "source": [
    "#Calculate regions (can take a while)\n",
    "#M: number of regions matching per neuron\n",
    "net_label, features, features_key, features_freq, rectangles, regions, spectros, list_files2=AD.calc_output(list_files, net)\n",
    "full_region, full_rectangle, full_spectro, full_name=AD.rearrange_output(net_label, features, features_key, features_freq, rectangles, regions, spectros, list_files2, net, dim1=Dim1, dim2=Dim2)\n",
    "M=AD.calc_matching(full_name, dim1=Dim1, dim2=Dim2)"
   ]
  },
  {
   "cell_type": "markdown",
   "metadata": {},
   "source": [
    "**Visualisations**"
   ]
  },
  {
   "cell_type": "code",
   "execution_count": 6,
   "metadata": {},
   "outputs": [
    {
     "data": {
      "image/png": "[encoded data removed]",
      "text/plain": [
       "<Figure size 432x288 with 1 Axes>"
      ]
     },
     "metadata": {},
     "output_type": "display_data"
    },
    {
     "data": {
      "text/plain": [
       "()"
      ]
     },
     "execution_count": 6,
     "metadata": {},
     "output_type": "execute_result"
    }
   ],
   "source": [
    "#plot MDS\n",
    "net_features=AD.calc_net_features(net)\n",
    "D=AD.calc_dist_matrix2(net_features, 1, raw_data=raw_data)\n",
    "pos=AD.calc_pos(D)\n",
    "AD.plot_MDS2(pos, Dim1, Dim2)"
   ]
  },
  {
   "cell_type": "code",
   "execution_count": 7,
   "metadata": {},
   "outputs": [
    {
     "name": "stdout",
     "output_type": "stream",
     "text": [
      "[[16  8  0 22 11]\n",
      " [ 9 15 12  5 26]\n",
      " [15  9 16  9  6]\n",
      " [ 7  4  4  8 10]\n",
      " [17  7 26  3 21]]\n"
     ]
    }
   ],
   "source": [
    "#print out the matches per neuron\n",
    "print(M)"
   ]
  },
  {
   "cell_type": "code",
   "execution_count": 8,
   "metadata": {},
   "outputs": [
    {
     "data": {
      "image/png": "[encoded data removed]",
      "text/plain": [
       "<Figure size 432x288 with 2 Axes>"
      ]
     },
     "metadata": {},
     "output_type": "display_data"
    },
    {
     "data": {
      "text/plain": [
       "()"
      ]
     },
     "execution_count": 8,
     "metadata": {},
     "output_type": "execute_result"
    }
   ],
   "source": [
    "#plot a heatmap of the matches per neuron (add 'export' to save fig)\n",
    "AD.heatmap_neurons(M)"
   ]
  },
  {
   "cell_type": "code",
   "execution_count": 9,
   "metadata": {},
   "outputs": [
    {
     "data": {
      "image/png": "[encoded data removed]",
      "text/plain": [
       "<Figure size 432x288 with 2 Axes>"
      ]
     },
     "metadata": {},
     "output_type": "display_data"
    },
    {
     "data": {
      "text/plain": [
       "()"
      ]
     },
     "execution_count": 9,
     "metadata": {},
     "output_type": "execute_result"
    }
   ],
   "source": [
    "#plot the U-matrix (add 'export' to save the fig)\n",
    "AD.plot_U(net)"
   ]
  },
  {
   "cell_type": "code",
   "execution_count": 10,
   "metadata": {},
   "outputs": [
    {
     "data": {
      "application/vnd.jupyter.widget-view+json": {
       "model_id": "f47e4c4eacd14c65bd54e479536505a7",
       "version_major": 2,
       "version_minor": 0
      },
      "text/plain": [
       "interactive(children=(FloatSlider(value=0.0, description='dim1', max=4.0, step=1.0), FloatSlider(value=0.0, de…"
      ]
     },
     "metadata": {},
     "output_type": "display_data"
    },
    {
     "data": {
      "text/plain": [
       "<function AD_functions.plot_region_neuron(full_region, full_rectangle, full_spectro, full_name, dim1, dim2, point, **optional)>"
      ]
     },
     "execution_count": 10,
     "metadata": {},
     "output_type": "execute_result"
    }
   ],
   "source": [
    "#plot neuron-regions, sliders can be used to select a neuron and a region\n",
    "#Keep the number of regions per neuron in mind (slider is set to the maximum value)\n",
    "fig_size=(7,7) #Adapts the size of the figure\n",
    "max_c=AD.calc_maxc(full_name, dim1=Dim1, dim2=Dim2)\n",
    "interact(AD.plot_region_neuron, full_region=fixed(full_region), full_rectangle=fixed(full_rectangle),\n",
    "         full_spectro=fixed(full_spectro), full_name=fixed(full_name),  dim1 = widgets.FloatSlider(value=0, min=0, max=Dim1-1, step=1),\n",
    "         dim2=widgets.FloatSlider(value=0, min=0, max=Dim2-1, step=1), point=widgets.FloatSlider(value=0, min=0, max=max_c-1, step=1), fig_size=fixed(fig_size))"
   ]
  },
  {
   "cell_type": "markdown",
   "metadata": {},
   "source": [
    "**Features analysis**"
   ]
  },
  {
   "cell_type": "code",
   "execution_count": null,
   "metadata": {},
   "outputs": [],
   "source": [
    "#Adapt\n",
    "#Add a new template. \n",
    "#Copy the data from the title of the plot and fill in the code of the bat species.\n",
    "#hash codes of the rectangle and the region are returned\n",
    "file_name='mdau-1µl1µA052_AJP.wav'\n",
    "timestep=31\n",
    "region_num=0\n",
    "bat_name='mdau'\n",
    "AD.create_template(file_name, timestep, region_num, bat_name)"
   ]
  },
  {
   "cell_type": "code",
   "execution_count": null,
   "metadata": {},
   "outputs": [],
   "source": [
    "#Adapt\n",
    "#Make correlation plots (use 'export' to save the fig)\n",
    "#Features are needed (calculated in a block above)\n",
    "index_range=[0, 7] #range over which feature correlations are calculated\n",
    "corr=AD.cor_plot(features, index_range)"
   ]
  }
 ],
 "metadata": {
  "kernelspec": {
   "display_name": "Python 3",
   "language": "python",
   "name": "python3"
  },
  "language_info": {
   "codemirror_mode": {
    "name": "ipython",
    "version": 3
   },
   "file_extension": ".py",
   "mimetype": "text/x-python",
   "name": "python",
   "nbconvert_exporter": "python",
   "pygments_lexer": "ipython3",
   "version": "3.6.5"
  }
 },
 "nbformat": 4,
 "nbformat_minor": 2
}
