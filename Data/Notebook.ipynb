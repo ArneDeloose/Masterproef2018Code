{
 "cells": [
  {
   "cell_type": "markdown",
   "metadata": {},
   "source": [
    "The files to be analysed must be copied to the folder 'Audio_data'. This folder is normally located with the notebook, but most functions can still run by adding an argument Audio_data=path\n",
    "\n",
    "The audio must be of the same type (no mixes of TE and non-TE). The code assumes data is normal, if it is TE, add an argument channel='l' or 'r' (left or right).\n",
    "\n",
    "If *all* the files are located somewhere else, the remote control block needs to be run (first block)."
   ]
  },
  {
   "cell_type": "markdown",
   "metadata": {},
   "source": [
    "**Remote control (optional)**"
   ]
  },
  {
   "cell_type": "code",
   "execution_count": 2,
   "metadata": {},
   "outputs": [],
   "source": [
    "#Adapt\n",
    "#If the necessary files aren't stored in the same folder as the notebook, specify the directory here\n",
    "import os\n",
    "path='C:/Users/arne/Documents/School/Thesis'; #Change this to directory that stores the data\n",
    "os.chdir(path)"
   ]
  },
  {
   "cell_type": "markdown",
   "metadata": {},
   "source": [
    "**Setup**"
   ]
  },
  {
   "cell_type": "code",
   "execution_count": 1,
   "metadata": {},
   "outputs": [],
   "source": [
    "#Import functions\n",
    "import AD_functions as AD #imports all needed functions\n",
    "from ipywidgets import interact, fixed #interactive plot\n",
    "import ipywidgets as widgets"
   ]
  },
  {
   "cell_type": "code",
   "execution_count": 3,
   "metadata": {},
   "outputs": [],
   "source": [
    "#Adapt\n",
    "#Files to be analysed, provide a list of names or set Full_flag to True to analyse every .wav file in the folder\n",
    "list_files=('eser-1_ppip-2µl1µA043_AEI.wav', 'eser-1_ppip-2µl1µA048_AFT.wav',\n",
    "            'ppip-1µl1µB011_ABJ.wav', 'ppip-1µl1µA045_AAS.wav', 'mdau-1µl1µA052_AJP.wav')\n",
    "Full_flag=False"
   ]
  },
  {
   "cell_type": "markdown",
   "metadata": {},
   "source": [
    "**SOFM**"
   ]
  },
  {
   "cell_type": "code",
   "execution_count": 4,
   "metadata": {},
   "outputs": [],
   "source": [
    "#option 1 (new map)\n",
    "#Fit self-organising map (can take a while)\n",
    "#To save the map, add argument 'export' and set it to a name (e.g. AD.fit_SOM(list_files, full=Full_flag, export='map1')\n",
    "Dim1=5\n",
    "Dim2=5\n",
    "net, raw_data=AD.fit_SOM(list_files, full=Full_flag, dim1=Dim1, dim2=Dim2)"
   ]
  },
  {
   "cell_type": "code",
   "execution_count": null,
   "metadata": {},
   "outputs": [],
   "source": [
    "#option 2 (existing map)\n",
    "#Load an existing map (if stored in a different location, add argument 'path', e.g. AD.import_map(map_name, path='C:/Users/...))\n",
    "map_name='map1' #change this to the name of the map\n",
    "net, raw_data=AD.import_map(map_name)\n",
    "Dim1=net.shape[0]\n",
    "Dim2=net.shape[1]"
   ]
  },
  {
   "cell_type": "markdown",
   "metadata": {},
   "source": [
    "**Calculate regions**"
   ]
  },
  {
   "cell_type": "code",
   "execution_count": 5,
   "metadata": {},
   "outputs": [
    {
     "ename": "TypeError",
     "evalue": "find_bmu() missing 1 required positional argument: 'D'",
     "output_type": "error",
     "traceback": [
      "\u001b[1;31m---------------------------------------------------------------------------\u001b[0m",
      "\u001b[1;31mTypeError\u001b[0m                                 Traceback (most recent call last)",
      "\u001b[1;32m<ipython-input-5-01c5308ee6ed>\u001b[0m in \u001b[0;36m<module>\u001b[1;34m()\u001b[0m\n\u001b[0;32m      1\u001b[0m \u001b[1;31m#Calculate regions (can take a while)\u001b[0m\u001b[1;33m\u001b[0m\u001b[1;33m\u001b[0m\u001b[0m\n\u001b[0;32m      2\u001b[0m \u001b[1;31m#M: number of regions matching per neuron\u001b[0m\u001b[1;33m\u001b[0m\u001b[1;33m\u001b[0m\u001b[0m\n\u001b[1;32m----> 3\u001b[1;33m \u001b[0mnet_label\u001b[0m\u001b[1;33m,\u001b[0m \u001b[0mfeatures\u001b[0m\u001b[1;33m,\u001b[0m \u001b[0mfeatures_key\u001b[0m\u001b[1;33m,\u001b[0m \u001b[0mfeatures_freq\u001b[0m\u001b[1;33m,\u001b[0m \u001b[0mrectangles\u001b[0m\u001b[1;33m,\u001b[0m \u001b[0mregions\u001b[0m\u001b[1;33m,\u001b[0m \u001b[0mspectros\u001b[0m\u001b[1;33m,\u001b[0m \u001b[0mlist_files2\u001b[0m\u001b[1;33m=\u001b[0m\u001b[0mAD\u001b[0m\u001b[1;33m.\u001b[0m\u001b[0mcalc_output\u001b[0m\u001b[1;33m(\u001b[0m\u001b[0mlist_files\u001b[0m\u001b[1;33m,\u001b[0m \u001b[0mnet\u001b[0m\u001b[1;33m)\u001b[0m\u001b[1;33m\u001b[0m\u001b[0m\n\u001b[0m\u001b[0;32m      4\u001b[0m \u001b[0mfull_region\u001b[0m\u001b[1;33m,\u001b[0m \u001b[0mfull_rectangle\u001b[0m\u001b[1;33m,\u001b[0m \u001b[0mfull_spectro\u001b[0m\u001b[1;33m,\u001b[0m \u001b[0mfull_name\u001b[0m\u001b[1;33m=\u001b[0m\u001b[0mAD\u001b[0m\u001b[1;33m.\u001b[0m\u001b[0mrearrange_output\u001b[0m\u001b[1;33m(\u001b[0m\u001b[0mnet_label\u001b[0m\u001b[1;33m,\u001b[0m \u001b[0mfeatures\u001b[0m\u001b[1;33m,\u001b[0m \u001b[0mfeatures_key\u001b[0m\u001b[1;33m,\u001b[0m \u001b[0mfeatures_freq\u001b[0m\u001b[1;33m,\u001b[0m \u001b[0mrectangles\u001b[0m\u001b[1;33m,\u001b[0m \u001b[0mregions\u001b[0m\u001b[1;33m,\u001b[0m \u001b[0mspectros\u001b[0m\u001b[1;33m,\u001b[0m \u001b[0mlist_files2\u001b[0m\u001b[1;33m,\u001b[0m \u001b[0mnet\u001b[0m\u001b[1;33m,\u001b[0m \u001b[0mdim1\u001b[0m\u001b[1;33m=\u001b[0m\u001b[0mDim1\u001b[0m\u001b[1;33m,\u001b[0m \u001b[0mdim2\u001b[0m\u001b[1;33m=\u001b[0m\u001b[0mDim2\u001b[0m\u001b[1;33m)\u001b[0m\u001b[1;33m\u001b[0m\u001b[0m\n\u001b[0;32m      5\u001b[0m \u001b[0mM\u001b[0m\u001b[1;33m=\u001b[0m\u001b[0mAD\u001b[0m\u001b[1;33m.\u001b[0m\u001b[0mcalc_matching\u001b[0m\u001b[1;33m(\u001b[0m\u001b[0mfull_name\u001b[0m\u001b[1;33m,\u001b[0m \u001b[0mdim1\u001b[0m\u001b[1;33m=\u001b[0m\u001b[0mDim1\u001b[0m\u001b[1;33m,\u001b[0m \u001b[0mdim2\u001b[0m\u001b[1;33m=\u001b[0m\u001b[0mDim2\u001b[0m\u001b[1;33m)\u001b[0m\u001b[1;33m\u001b[0m\u001b[0m\n",
      "\u001b[1;32m~\\Documents\\GitHub\\Masterproef2018Code\\Data\\AD_functions.py\u001b[0m in \u001b[0;36mcalc_output\u001b[1;34m(list_files, net, **optional)\u001b[0m\n\u001b[0;32m    867\u001b[0m         \u001b[0mnum_reg\u001b[0m\u001b[1;33m=\u001b[0m\u001b[0mAD\u001b[0m\u001b[1;33m.\u001b[0m\u001b[0mcalc_num_regions\u001b[0m\u001b[1;33m(\u001b[0m\u001b[0mregions\u001b[0m\u001b[1;33m[\u001b[0m\u001b[0mi\u001b[0m\u001b[1;33m]\u001b[0m\u001b[1;33m)\u001b[0m\u001b[1;33m\u001b[0m\u001b[0m\n\u001b[0;32m    868\u001b[0m         \u001b[0mfeatures\u001b[0m\u001b[1;33m[\u001b[0m\u001b[0mi\u001b[0m\u001b[1;33m]\u001b[0m\u001b[1;33m,\u001b[0m \u001b[0mfeatures_key\u001b[0m\u001b[1;33m[\u001b[0m\u001b[0mi\u001b[0m\u001b[1;33m]\u001b[0m\u001b[1;33m,\u001b[0m \u001b[0mfeatures_freq\u001b[0m\u001b[1;33m[\u001b[0m\u001b[0mi\u001b[0m\u001b[1;33m]\u001b[0m\u001b[1;33m=\u001b[0m\u001b[0mAD\u001b[0m\u001b[1;33m.\u001b[0m\u001b[0mcalc_features\u001b[0m\u001b[1;33m(\u001b[0m\u001b[0mrectangles\u001b[0m\u001b[1;33m[\u001b[0m\u001b[0mi\u001b[0m\u001b[1;33m]\u001b[0m\u001b[1;33m,\u001b[0m \u001b[0mregions\u001b[0m\u001b[1;33m[\u001b[0m\u001b[0mi\u001b[0m\u001b[1;33m]\u001b[0m\u001b[1;33m,\u001b[0m \u001b[0mtemplates\u001b[0m\u001b[1;33m,\u001b[0m \u001b[0mnum_reg\u001b[0m\u001b[1;33m,\u001b[0m \u001b[0mlist_bats\u001b[0m\u001b[1;33m,\u001b[0m \u001b[0mnum_total\u001b[0m\u001b[1;33m)\u001b[0m\u001b[1;33m\u001b[0m\u001b[0m\n\u001b[1;32m--> 869\u001b[1;33m         \u001b[0mnet_label\u001b[0m\u001b[1;33m[\u001b[0m\u001b[0mi\u001b[0m\u001b[1;33m]\u001b[0m\u001b[1;33m=\u001b[0m\u001b[0mAD\u001b[0m\u001b[1;33m.\u001b[0m\u001b[0mcalc_BMU_scores\u001b[0m\u001b[1;33m(\u001b[0m\u001b[0mfeatures\u001b[0m\u001b[1;33m[\u001b[0m\u001b[0mi\u001b[0m\u001b[1;33m]\u001b[0m\u001b[1;33m,\u001b[0m \u001b[0mnet\u001b[0m\u001b[1;33m)\u001b[0m\u001b[1;33m\u001b[0m\u001b[0m\n\u001b[0m\u001b[0;32m    870\u001b[0m     \u001b[1;32mreturn\u001b[0m\u001b[1;33m(\u001b[0m\u001b[0mnet_label\u001b[0m\u001b[1;33m,\u001b[0m \u001b[0mfeatures\u001b[0m\u001b[1;33m,\u001b[0m \u001b[0mfeatures_key\u001b[0m\u001b[1;33m,\u001b[0m \u001b[0mfeatures_freq\u001b[0m\u001b[1;33m,\u001b[0m \u001b[0mrectangles\u001b[0m\u001b[1;33m,\u001b[0m \u001b[0mregions\u001b[0m\u001b[1;33m,\u001b[0m \u001b[0mspectros\u001b[0m\u001b[1;33m,\u001b[0m \u001b[0mlist_files2\u001b[0m\u001b[1;33m)\u001b[0m\u001b[1;33m\u001b[0m\u001b[0m\n\u001b[0;32m    871\u001b[0m \u001b[1;33m\u001b[0m\u001b[0m\n",
      "\u001b[1;32m~\\Documents\\GitHub\\Masterproef2018Code\\Data\\AD_functions.py\u001b[0m in \u001b[0;36mcalc_BMU_scores\u001b[1;34m(data, net)\u001b[0m\n\u001b[0;32m   1324\u001b[0m     \u001b[1;32mfor\u001b[0m \u001b[0mi\u001b[0m \u001b[1;32min\u001b[0m \u001b[0mrange\u001b[0m\u001b[1;33m(\u001b[0m\u001b[0mn\u001b[0m\u001b[1;33m)\u001b[0m\u001b[1;33m:\u001b[0m\u001b[1;33m\u001b[0m\u001b[0m\n\u001b[0;32m   1325\u001b[0m         \u001b[0mt\u001b[0m \u001b[1;33m=\u001b[0m \u001b[0mdata\u001b[0m\u001b[1;33m[\u001b[0m\u001b[1;33m:\u001b[0m\u001b[1;33m,\u001b[0m \u001b[0mi\u001b[0m\u001b[1;33m]\u001b[0m\u001b[1;33m.\u001b[0m\u001b[0mreshape\u001b[0m\u001b[1;33m(\u001b[0m\u001b[0mnp\u001b[0m\u001b[1;33m.\u001b[0m\u001b[0marray\u001b[0m\u001b[1;33m(\u001b[0m\u001b[1;33m[\u001b[0m\u001b[0mm\u001b[0m\u001b[1;33m,\u001b[0m \u001b[1;36m1\u001b[0m\u001b[1;33m]\u001b[0m\u001b[1;33m)\u001b[0m\u001b[1;33m)\u001b[0m\u001b[1;33m\u001b[0m\u001b[0m\n\u001b[1;32m-> 1326\u001b[1;33m         \u001b[0m_\u001b[0m\u001b[1;33m,\u001b[0m \u001b[0mbmu_idx\u001b[0m\u001b[1;33m=\u001b[0m\u001b[0mAD\u001b[0m\u001b[1;33m.\u001b[0m\u001b[0mfind_bmu\u001b[0m\u001b[1;33m(\u001b[0m\u001b[0mt\u001b[0m\u001b[1;33m,\u001b[0m \u001b[0mnet\u001b[0m\u001b[1;33m,\u001b[0m \u001b[0mm\u001b[0m\u001b[1;33m)\u001b[0m\u001b[1;33m\u001b[0m\u001b[0m\n\u001b[0m\u001b[0;32m   1327\u001b[0m         \u001b[0mscore_BMU\u001b[0m\u001b[1;33m[\u001b[0m\u001b[0mi\u001b[0m\u001b[1;33m,\u001b[0m \u001b[1;36m0\u001b[0m\u001b[1;33m]\u001b[0m\u001b[1;33m=\u001b[0m\u001b[0mbmu_idx\u001b[0m\u001b[1;33m[\u001b[0m\u001b[1;36m0\u001b[0m\u001b[1;33m]\u001b[0m\u001b[1;33m\u001b[0m\u001b[0m\n\u001b[0;32m   1328\u001b[0m         \u001b[0mscore_BMU\u001b[0m\u001b[1;33m[\u001b[0m\u001b[0mi\u001b[0m\u001b[1;33m,\u001b[0m \u001b[1;36m1\u001b[0m\u001b[1;33m]\u001b[0m\u001b[1;33m=\u001b[0m\u001b[0mbmu_idx\u001b[0m\u001b[1;33m[\u001b[0m\u001b[1;36m1\u001b[0m\u001b[1;33m]\u001b[0m\u001b[1;33m\u001b[0m\u001b[0m\n",
      "\u001b[1;31mTypeError\u001b[0m: find_bmu() missing 1 required positional argument: 'D'"
     ]
    }
   ],
   "source": [
    "#Calculate regions (can take a while)\n",
    "#M: number of regions matching per neuron\n",
    "net_label, features, features_key, features_freq, rectangles, regions, spectros, list_files2=AD.calc_output(list_files, net)\n",
    "full_region, full_rectangle, full_spectro, full_name=AD.rearrange_output(net_label, features, features_key, features_freq, rectangles, regions, spectros, list_files2, net, dim1=Dim1, dim2=Dim2)\n",
    "M=AD.calc_matching(full_name, dim1=Dim1, dim2=Dim2)"
   ]
  },
  {
   "cell_type": "markdown",
   "metadata": {},
   "source": [
    "**Visualisations**"
   ]
  },
  {
   "cell_type": "code",
   "execution_count": null,
   "metadata": {},
   "outputs": [],
   "source": [
    "#plot MDS\n",
    "net_features=AD.calc_net_features(net)\n",
    "D=AD.calc_dist_matrix2(net_features, 1, raw_data=raw_data)\n",
    "pos=AD.calc_pos(D)\n",
    "AD.plot_MDS2(pos, Dim1, Dim2)"
   ]
  },
  {
   "cell_type": "code",
   "execution_count": null,
   "metadata": {},
   "outputs": [],
   "source": [
    "#print out the matches per neuron\n",
    "print(M)"
   ]
  },
  {
   "cell_type": "code",
   "execution_count": null,
   "metadata": {},
   "outputs": [],
   "source": [
    "#plot a heatmap of the matches per neuron (add 'export' to save fig)\n",
    "AD.heatmap_neurons(M)"
   ]
  },
  {
   "cell_type": "code",
   "execution_count": null,
   "metadata": {},
   "outputs": [],
   "source": [
    "#plot the U-matrix (add 'export' to save the fig)\n",
    "AD.plot_U(net)"
   ]
  },
  {
   "cell_type": "code",
   "execution_count": null,
   "metadata": {},
   "outputs": [],
   "source": [
    "#plot neuron-regions, sliders can be used to select a neuron and a region\n",
    "#Keep the number of regions per neuron in mind (slider is set to the maximum value)\n",
    "fig_size=(7,7) #Adapts the size of the figure\n",
    "max_c=AD.calc_maxc(full_name, dim1=Dim1, dim2=Dim2)\n",
    "interact(AD.plot_region_neuron, full_region=fixed(full_region), full_rectangle=fixed(full_rectangle),\n",
    "         full_spectro=fixed(full_spectro), full_name=fixed(full_name),  dim1 = widgets.FloatSlider(value=0, min=0, max=Dim1-1, step=1),\n",
    "         dim2=widgets.FloatSlider(value=0, min=0, max=Dim2-1, step=1), point=widgets.FloatSlider(value=0, min=0, max=max_c-1, step=1), fig_size=fixed(fig_size))"
   ]
  },
  {
   "cell_type": "markdown",
   "metadata": {},
   "source": [
    "**Features analysis**"
   ]
  },
  {
   "cell_type": "code",
   "execution_count": null,
   "metadata": {},
   "outputs": [],
   "source": [
    "#Adapt\n",
    "#Add a new template. \n",
    "#Copy the data from the title of the plot and fill in the code of the bat species.\n",
    "#hash codes of the rectangle and the region are returned\n",
    "file_name='mdau-1µl1µA052_AJP.wav'\n",
    "timestep=31\n",
    "region_num=0\n",
    "bat_name='mdau'\n",
    "AD.create_template(file_name, timestep, region_num, bat_name)"
   ]
  },
  {
   "cell_type": "code",
   "execution_count": null,
   "metadata": {},
   "outputs": [],
   "source": [
    "#Shows the index of every feature (to make correlation plots)\n",
    "AD.print_features()"
   ]
  },
  {
   "cell_type": "code",
   "execution_count": null,
   "metadata": {},
   "outputs": [],
   "source": [
    "#Adapt\n",
    "#Make correlation plots (use 'export' to save the fig)\n",
    "index_range=[0, 7] #range over which feature correlations are calculated\n",
    "corr=AD.cor_plot(features, index_range)"
   ]
  }
 ],
 "metadata": {
  "kernelspec": {
   "display_name": "Python 3",
   "language": "python",
   "name": "python3"
  },
  "language_info": {
   "codemirror_mode": {
    "name": "ipython",
    "version": 3
   },
   "file_extension": ".py",
   "mimetype": "text/x-python",
   "name": "python",
   "nbconvert_exporter": "python",
   "pygments_lexer": "ipython3",
   "version": "3.6.5"
  }
 },
 "nbformat": 4,
 "nbformat_minor": 2
}
