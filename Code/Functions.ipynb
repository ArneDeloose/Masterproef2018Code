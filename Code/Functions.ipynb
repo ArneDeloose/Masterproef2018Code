{
 "cells": [
  {
   "cell_type": "code",
   "execution_count": 1,
   "metadata": {},
   "outputs": [],
   "source": [
    "def AD_init():\n",
    "    import scipy.io.wavfile\n",
    "    import matplotlib.pyplot as plt\n",
    "    import scipy.fftpack as scf\n",
    "    from scipy import signal\n",
    "    import numpy as np\n",
    "    import os\n",
    "    import math\n",
    "    import pandas as pd\n",
    "    path='C:/Users/arne/Documents/School/Thesis'; #Change this to directory that stores the data\n",
    "    os.chdir(path)"
   ]
  },
  {
   "cell_type": "code",
   "execution_count": 2,
   "metadata": {},
   "outputs": [],
   "source": [
    "def AD_setup(name):\n",
    "    [sample_rate,samples]=scipy.io.wavfile.read(name, mmap=False);\n",
    "    N=len(samples); #number of samples\n",
    "    t=np.linspace(0,N/sample_rate, num=N); #time_array\n",
    "    total_time=N/sample_rate;\n",
    "    steps=2*math.floor(total_time)"
   ]
  },
  {
   "cell_type": "code",
   "execution_count": 3,
   "metadata": {},
   "outputs": [],
   "source": [
    "def AD_spect_plot(samples, sample_rate):\n",
    "    frequencies, times, spectrogram = signal.spectrogram(samples, sample_rate)\n",
    "    plt.pcolormesh(times, frequencies, spectrogram)\n",
    "    plt.ylabel('Frequency [Hz]')\n",
    "    plt.xlabel('Time [sec]')\n",
    "    plt.ylim(10000,80000)\n",
    "    return"
   ]
  },
  {
   "cell_type": "code",
   "execution_count": null,
   "metadata": {},
   "outputs": [],
   "source": []
  }
 ],
 "metadata": {
  "kernelspec": {
   "display_name": "Python 3",
   "language": "python",
   "name": "python3"
  },
  "language_info": {
   "codemirror_mode": {
    "name": "ipython",
    "version": 3
   },
   "file_extension": ".py",
   "mimetype": "text/x-python",
   "name": "python",
   "nbconvert_exporter": "python",
   "pygments_lexer": "ipython3",
   "version": "3.6.5"
  }
 },
 "nbformat": 4,
 "nbformat_minor": 2
}
